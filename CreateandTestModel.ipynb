{
 "cells": [
  {
   "cell_type": "code",
   "execution_count": 1,
   "id": "56c7adb3",
   "metadata": {},
   "outputs": [
    {
     "name": "stdout",
     "output_type": "stream",
     "text": [
      "Note: you may need to restart the kernel to use updated packages.Requirement already satisfied: pyscreenshot in c:\\python311\\lib\\site-packages (3.1)\n",
      "Requirement already satisfied: EasyProcess in c:\\python311\\lib\\site-packages (from pyscreenshot) (1.1)\n",
      "Requirement already satisfied: entrypoint2 in c:\\python311\\lib\\site-packages (from pyscreenshot) (1.1)\n",
      "Requirement already satisfied: mss in c:\\python311\\lib\\site-packages (from pyscreenshot) (9.0.1)\n",
      "\n"
     ]
    },
    {
     "name": "stderr",
     "output_type": "stream",
     "text": [
      "\n",
      "[notice] A new release of pip available: 22.3 -> 23.2.1\n",
      "[notice] To update, run: python.exe -m pip install --upgrade pip\n"
     ]
    }
   ],
   "source": [
    "%pip install pyscreenshot"
   ]
  },
  {
   "cell_type": "code",
   "execution_count": 2,
   "id": "2e66017e",
   "metadata": {},
   "outputs": [],
   "source": [
    "#Screen Capture\n",
    "import pyscreenshot as ImageGrab\n",
    "import time"
   ]
  },
  {
   "cell_type": "code",
   "execution_count": 10,
   "id": "bc746b3b",
   "metadata": {},
   "outputs": [
    {
     "name": "stdout",
     "output_type": "stream",
     "text": [
      "Saved 1.png\n",
      "Clear & Redraw\n",
      "Saved 2.png\n",
      "Clear & Redraw\n",
      "Saved 3.png\n",
      "Clear & Redraw\n",
      "Saved 4.png\n",
      "Clear & Redraw\n"
     ]
    }
   ],
   "source": [
    "images_folder = \"captured_images/0/\"\n",
    "for i in range (0,4):\n",
    "  im = ImageGrab.grab(bbox=(3,185,415,685)) # X1,Y1,X2,Y2\n",
    "  new_filename = f\"{i + 1}.png\"\n",
    "  im.save(images_folder + new_filename)\n",
    "  print(\"Saved \" + new_filename)\n",
    "  \n",
    "  # im.save(images_folder, i , \".png\")\n",
    "  print(\"Clear & Redraw\")\n",
    "  if i != 4:\n",
    "    time.sleep(15)\n",
    "  "
   ]
  },
  {
   "cell_type": "code",
   "execution_count": 12,
   "id": "af4d7afe",
   "metadata": {},
   "outputs": [
    {
     "name": "stdout",
     "output_type": "stream",
     "text": [
      "Note: you may need to restart the kernel to use updated packages.\n"
     ]
    },
    {
     "name": "stderr",
     "output_type": "stream",
     "text": [
      "ERROR: Could not find a version that satisfies the requirement open (from versions: none)\n",
      "ERROR: No matching distribution found for open\n",
      "\n",
      "[notice] A new release of pip available: 22.3 -> 23.2.1\n",
      "[notice] To update, run: python.exe -m pip install --upgrade pip\n"
     ]
    },
    {
     "name": "stdout",
     "output_type": "stream",
     "text": [
      "Requirement already satisfied: pandas in c:\\python311\\lib\\site-packages (2.0.0)Note: you may need to restart the kernel to use updated packages.\n"
     ]
    },
    {
     "name": "stderr",
     "output_type": "stream",
     "text": [
      "\n",
      "[notice] A new release of pip available: 22.3 -> 23.2.1\n",
      "[notice] To update, run: python.exe -m pip install --upgrade pip\n"
     ]
    },
    {
     "name": "stdout",
     "output_type": "stream",
     "text": [
      "\n",
      "Requirement already satisfied: python-dateutil>=2.8.2 in c:\\python311\\lib\\site-packages (from pandas) (2.8.2)\n",
      "Requirement already satisfied: pytz>=2020.1 in c:\\python311\\lib\\site-packages (from pandas) (2023.3)\n",
      "Requirement already satisfied: tzdata>=2022.1 in c:\\python311\\lib\\site-packages (from pandas) (2022.7)\n",
      "Requirement already satisfied: numpy>=1.21.0 in c:\\python311\\lib\\site-packages (from pandas) (1.24.2)\n",
      "Requirement already satisfied: six>=1.5 in c:\\python311\\lib\\site-packages (from python-dateutil>=2.8.2->pandas) (1.16.0)\n",
      "Collecting scikit-learn\n",
      "  Downloading scikit_learn-1.3.0-cp311-cp311-win_amd64.whl (9.2 MB)\n",
      "     ---------------------------------------- 9.2/9.2 MB 5.1 MB/s eta 0:00:00\n",
      "Requirement already satisfied: numpy>=1.17.3 in c:\\python311\\lib\\site-packages (from scikit-learn) (1.24.2)\n",
      "Collecting scipy>=1.5.0\n",
      "  Downloading scipy-1.11.2-cp311-cp311-win_amd64.whl (44.0 MB)\n",
      "     ---------------------------------------- 44.0/44.0 MB 4.2 MB/s eta 0:00:00\n",
      "Collecting joblib>=1.1.1\n",
      "  Downloading joblib-1.3.2-py3-none-any.whl (302 kB)\n",
      "     -------------------------------------- 302.2/302.2 kB 4.7 MB/s eta 0:00:00\n",
      "Collecting threadpoolctl>=2.0.0\n",
      "  Downloading threadpoolctl-3.2.0-py3-none-any.whl (15 kB)\n",
      "Installing collected packages: threadpoolctl, scipy, joblib, scikit-learn\n",
      "Successfully installed joblib-1.3.2 scikit-learn-1.3.0 scipy-1.11.2 threadpoolctl-3.2.0\n",
      "Note: you may need to restart the kernel to use updated packages.\n"
     ]
    },
    {
     "name": "stderr",
     "output_type": "stream",
     "text": [
      "\n",
      "[notice] A new release of pip available: 22.3 -> 23.2.1\n",
      "[notice] To update, run: python.exe -m pip install --upgrade pip\n"
     ]
    }
   ],
   "source": [
    "%pip install open\n",
    "%pip install pandas\n",
    "%pip install scikit-learn"
   ]
  },
  {
   "cell_type": "code",
   "execution_count": 14,
   "id": "f010db15",
   "metadata": {},
   "outputs": [],
   "source": [
    "#This is to test creating a csv file\n",
    "with open(\"dataset1.csv\", 'a') as f:\n",
    "  writer = csv.writer(f)\n",
    "  writer.writerow(header)\n"
   ]
  },
  {
   "cell_type": "code",
   "execution_count": 29,
   "id": "a9e33cac",
   "metadata": {},
   "outputs": [],
   "source": [
    "#General Dataset\n",
    "\n",
    "import cv2\n",
    "import csv\n",
    "import glob\n",
    "\n",
    "##Create the list including names of all columns in the dataset\n",
    "header =[\"label\"] \n",
    "for i in range(0, 784): #28x28 pixels \n",
    "  header.append(\"pixel\" + str(i))\n",
    "\n",
    "##Create csv file for writing the data\n",
    "with open(\"dataset.csv\", 'a') as f:\n",
    "  writer = csv.writer(f)\n",
    "  writer.writerow(header)"
   ]
  },
  {
   "cell_type": "code",
   "execution_count": 30,
   "id": "82792c6d",
   "metadata": {},
   "outputs": [],
   "source": [
    "##Load images from the dataset folder\n",
    "for label in range(0, 10):\n",
    "    dirList = glob.glob(\"captured_images/\" + str(label) + \"/*.png\") #getting all png files in the folder\n",
    "\n",
    "    \n",
    "    for img_path in dirList:\n",
    "        im = cv2.imread(img_path) #reading image in grayscale format\n",
    "        im_gray = cv2.cvtColor(im, cv2.COLOR_BGR2GRAY) #convert image to grayscale\n",
    "        im_gray = cv2.GaussianBlur(im_gray, (15,15), 0)   #apply gaussian blur to smoothen image\n",
    "        roi = cv2.resize(im_gray, (28,28), interpolation=cv2.INTER_AREA) #resize image to 28x28 pixels\n",
    "\n",
    "        data = []\n",
    "        data.append(label)\n",
    "        rows, cols = roi.shape #get image dimensions\n",
    "\n",
    "       ##Add pixel one by one into data array\n",
    "        for i in range(rows):\n",
    "           for j in range(cols):\n",
    "             k = roi[i,j] #get pixel value at location (i,j)\n",
    "             if k>100: #if pixel is greater than 100, make it 1, it means there is something in that pixel\n",
    "               k=1\n",
    "             else:\n",
    "               k=0 #otherwise make it 0, it means there is nothing in that pixel\n",
    "             data.append(k)\n",
    "\n",
    "        ##Save data into CSV file\n",
    "        with open(\"dataset.csv\", 'a') as f:\n",
    "          writer = csv.writer(f)\n",
    "          writer.writerow(data)"
   ]
  },
  {
   "cell_type": "code",
   "execution_count": 4,
   "id": "9ff69483",
   "metadata": {},
   "outputs": [],
   "source": [
    "#Load the dataset\n",
    "\n",
    "import pandas as pd\n",
    "from sklearn.utils import shuffle\n",
    "\n",
    "data = pd.read_csv(\"dataset.csv\")\n",
    "data = shuffle(data)"
   ]
  },
  {
   "cell_type": "code",
   "execution_count": 7,
   "id": "2aa35390",
   "metadata": {},
   "outputs": [
    {
     "name": "stdout",
     "output_type": "stream",
     "text": [
      "Note: you may need to restart the kernel to use updated packages.\n"
     ]
    },
    {
     "name": "stderr",
     "output_type": "stream",
     "text": [
      "ERROR: Could not find a version that satisfies the requirement matpotlib (from versions: none)\n",
      "ERROR: No matching distribution found for matpotlib\n"
     ]
    },
    {
     "name": "stdout",
     "output_type": "stream",
     "text": [
      "Requirement already satisfied: joblib in c:\\python311\\lib\\site-packages (1.3.2)\n",
      "Note: you may need to restart the kernel to use updated packages.\n"
     ]
    }
   ],
   "source": [
    "%pip install matpotlib\n",
    "%pip install joblib"
   ]
  },
  {
   "cell_type": "code",
   "execution_count": 5,
   "id": "b3cfa66b",
   "metadata": {},
   "outputs": [],
   "source": [
    "#Seperation of dependent and independent variable\n",
    "\n",
    "X = data.drop([\"label\"], axis=1) #drop the label column\n",
    "Y = data[\"label\"] #store the label column"
   ]
  },
  {
   "cell_type": "code",
   "execution_count": 9,
   "id": "58d8a9c3",
   "metadata": {},
   "outputs": [
    {
     "name": "stdout",
     "output_type": "stream",
     "text": [
      "6\n"
     ]
    },
    {
     "data": {
      "text/plain": [
       "<matplotlib.image.AxesImage at 0x200a689b910>"
      ]
     },
     "execution_count": 9,
     "metadata": {},
     "output_type": "execute_result"
    },
    {
     "data": {
      "image/png": "[encoded data removed]",
      "text/plain": [
       "<Figure size 640x480 with 1 Axes>"
      ]
     },
     "metadata": {},
     "output_type": "display_data"
    }
   ],
   "source": [
    "#Preview of one imange using mathplotlib\n",
    "import matplotlib.pyplot as plt\n",
    "import cv2\n",
    "\n",
    "idx = 33\n",
    "img = X.loc[idx].values.reshape(28,28) #reshape the image from 1d to 2d pixel array\n",
    "print(Y[idx]) #print label of the image\n",
    "plt.imshow(img)"
   ]
  },
  {
   "cell_type": "code",
   "execution_count": 11,
   "id": "db02391e",
   "metadata": {},
   "outputs": [],
   "source": [
    "#Train and Test Split\n",
    "\n",
    "from sklearn.model_selection import train_test_split\n",
    "train_x, test_x, train_y, test_y = train_test_split(X, Y, test_size=0.2) #split the data into train and test set, 20% of data is test set"
   ]
  },
  {
   "cell_type": "code",
   "execution_count": 12,
   "id": "6176d06b",
   "metadata": {},
   "outputs": [
    {
     "data": {
      "text/plain": [
       "['model/digit_recognizer']"
      ]
     },
     "execution_count": 12,
     "metadata": {},
     "output_type": "execute_result"
    }
   ],
   "source": [
    "#Fit the model using svc and also save the model using joblib\n",
    "\n",
    "import joblib\n",
    "from sklearn.svm import SVC #support vector classifier\n",
    "classifier = SVC(kernel=\"linear\", random_state=8) #create the classifier\n",
    "classifier.fit(train_x, train_y) #train the model\n",
    "\n",
    "\n",
    "joblib.dump(classifier, \"model/digit_recognizer\") #save the model as digit_recognizer"
   ]
  },
  {
   "cell_type": "code",
   "execution_count": 13,
   "id": "cfc79b02",
   "metadata": {},
   "outputs": [
    {
     "name": "stdout",
     "output_type": "stream",
     "text": [
      "Accuracy =  0.8\n"
     ]
    }
   ],
   "source": [
    "#Calculate Accuracy\n",
    "\n",
    "from sklearn import metrics\n",
    "prediction = classifier.predict(test_x) #predict the value of test set\n",
    "print(\"Accuracy = \", metrics.accuracy_score(prediction, test_y)) #compare the predicted value with the actual value"
   ]
  }
 ],
 "metadata": {
  "kernelspec": {
   "display_name": "Python 3",
   "language": "python",
   "name": "python3"
  },
  "language_info": {
   "codemirror_mode": {
    "name": "ipython",
    "version": 3
   },
   "file_extension": ".py",
   "mimetype": "text/x-python",
   "name": "python",
   "nbconvert_exporter": "python",
   "pygments_lexer": "ipython3",
   "version": "3.11.0"
  },
  "vscode": {
   "interpreter": {
    "hash": "c261aea317cc0286b3b3261fbba9abdec21eaa57589985bb7a274bf54d6cc0a7"
   }
  }
 },
 "nbformat": 4,
 "nbformat_minor": 5
}
